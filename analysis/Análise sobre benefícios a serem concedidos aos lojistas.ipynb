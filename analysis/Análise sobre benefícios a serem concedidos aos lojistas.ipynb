{
 "cells": [
  {
   "cell_type": "markdown",
   "metadata": {},
   "source": [
    "# Análise sobre benefícios a serem concedidos aos lojistas"
   ]
  },
  {
   "cell_type": "markdown",
   "metadata": {},
   "source": [
    "## Dúvida da área de negócios\n",
    "* **Podemos dar os mesmos benefícios para todos os lojistas (sellers)? Ou existe algum que merece destaque?**\n",
    "\n",
    "* **Resposta:** Com base nas análises realizadas, chegou-se a conclusão de que há sim lojistas que merecem destaque. Para realizar a análise alguns KPI's foram definidos e através destes foi possível encontrar os principais lojistas, os que mais merecem destaque e que podem receber benefícios diferenciados, porém há entre estes um que merece maior destaque, que é o lojista que está entre os 10 melhores em todos os KPI's definidos e que está no topo do indicador **Valor total de Vendas**, indicador este que consideramos ser o de maior interesse. O Lojista que merece maior destaque é como o id **4869f7a5dfa277a7dca6462dcf3b52b2**."
   ]
  },
  {
   "cell_type": "code",
   "execution_count": null,
   "metadata": {},
   "outputs": [],
   "source": [
    "import pandas as pd\n",
    "import matplotlib.pyplot as plt\n",
    "import numpy as np\n",
    "import seaborn as sns\n",
    "import plotly.offline as py\n",
    "import plotly.graph_objs as go\n",
    "from datetime import datetime"
   ]
  },
  {
   "cell_type": "code",
   "execution_count": null,
   "metadata": {},
   "outputs": [],
   "source": [
    "%matplotlib inline\n",
    "\n",
    "from IPython.core.pylabtools import figsize\n",
    "\n",
    "\n",
    "figsize(12, 8)\n",
    "\n",
    "sns.set()"
   ]
  },
  {
   "cell_type": "markdown",
   "metadata": {},
   "source": [
    "## Carregando bases de dados"
   ]
  },
  {
   "cell_type": "code",
   "execution_count": 3,
   "metadata": {},
   "outputs": [],
   "source": [
    "df_customers = pd.read_csv('datasets/olist_customers_dataset.csv', encoding='ISO-8859-1')\n",
    "df_geolocation = pd.read_csv('datasets/olist_geolocation_dataset.csv', encoding='ISO-8859-1')\n",
    "df_order_items = pd.read_csv('datasets/olist_order_items_dataset.csv', encoding='ISO-8859-1')\n",
    "df_order_payments = pd.read_csv('datasets/olist_order_payments_dataset.csv', encoding='ISO-8859-1')\n",
    "df_order_reviews = pd.read_csv('datasets/olist_order_reviews_dataset.csv', encoding='ISO-8859-1')\n",
    "df_orders = pd.read_csv('datasets/olist_orders_dataset.csv', encoding='ISO-8859-1')\n",
    "df_products = pd.read_csv('datasets/olist_products_dataset.csv', encoding='ISO-8859-1')\n",
    "df_sellers = pd.read_csv('datasets/olist_sellers_dataset.csv', encoding='ISO-8859-1')\n",
    "df_product_category_name_translation = pd.read_csv('datasets/product_category_name_translation.csv', encoding='ISO-8859-1')"
   ]
  },
  {
   "cell_type": "markdown",
   "metadata": {},
   "source": [
    "## Base de Clientes"
   ]
  },
  {
   "cell_type": "code",
   "execution_count": 4,
   "metadata": {},
   "outputs": [
    {
     "data": {
      "text/html": [
       "<div>\n",
       "<style scoped>\n",
       "    .dataframe tbody tr th:only-of-type {\n",
       "        vertical-align: middle;\n",
       "    }\n",
       "\n",
       "    .dataframe tbody tr th {\n",
       "        vertical-align: top;\n",
       "    }\n",
       "\n",
       "    .dataframe thead th {\n",
       "        text-align: right;\n",
       "    }\n",
       "</style>\n",
       "<table border=\"1\" class=\"dataframe\">\n",
       "  <thead>\n",
       "    <tr style=\"text-align: right;\">\n",
       "      <th></th>\n",
       "      <th>customer_id</th>\n",
       "      <th>customer_unique_id</th>\n",
       "      <th>customer_zip_code_prefix</th>\n",
       "      <th>customer_city</th>\n",
       "      <th>customer_state</th>\n",
       "    </tr>\n",
       "  </thead>\n",
       "  <tbody>\n",
       "    <tr>\n",
       "      <th>0</th>\n",
       "      <td>06b8999e2fba1a1fbc88172c00ba8bc7</td>\n",
       "      <td>861eff4711a542e4b93843c6dd7febb0</td>\n",
       "      <td>14409</td>\n",
       "      <td>franca</td>\n",
       "      <td>SP</td>\n",
       "    </tr>\n",
       "    <tr>\n",
       "      <th>1</th>\n",
       "      <td>18955e83d337fd6b2def6b18a428ac77</td>\n",
       "      <td>290c77bc529b7ac935b93aa66c333dc3</td>\n",
       "      <td>9790</td>\n",
       "      <td>sao bernardo do campo</td>\n",
       "      <td>SP</td>\n",
       "    </tr>\n",
       "    <tr>\n",
       "      <th>2</th>\n",
       "      <td>4e7b3e00288586ebd08712fdd0374a03</td>\n",
       "      <td>060e732b5b29e8181a18229c7b0b2b5e</td>\n",
       "      <td>1151</td>\n",
       "      <td>sao paulo</td>\n",
       "      <td>SP</td>\n",
       "    </tr>\n",
       "    <tr>\n",
       "      <th>3</th>\n",
       "      <td>b2b6027bc5c5109e529d4dc6358b12c3</td>\n",
       "      <td>259dac757896d24d7702b9acbbff3f3c</td>\n",
       "      <td>8775</td>\n",
       "      <td>mogi das cruzes</td>\n",
       "      <td>SP</td>\n",
       "    </tr>\n",
       "    <tr>\n",
       "      <th>4</th>\n",
       "      <td>4f2d8ab171c80ec8364f7c12e35b23ad</td>\n",
       "      <td>345ecd01c38d18a9036ed96c73b8d066</td>\n",
       "      <td>13056</td>\n",
       "      <td>campinas</td>\n",
       "      <td>SP</td>\n",
       "    </tr>\n",
       "  </tbody>\n",
       "</table>\n",
       "</div>"
      ],
      "text/plain": [
       "                        customer_id                customer_unique_id  \\\n",
       "0  06b8999e2fba1a1fbc88172c00ba8bc7  861eff4711a542e4b93843c6dd7febb0   \n",
       "1  18955e83d337fd6b2def6b18a428ac77  290c77bc529b7ac935b93aa66c333dc3   \n",
       "2  4e7b3e00288586ebd08712fdd0374a03  060e732b5b29e8181a18229c7b0b2b5e   \n",
       "3  b2b6027bc5c5109e529d4dc6358b12c3  259dac757896d24d7702b9acbbff3f3c   \n",
       "4  4f2d8ab171c80ec8364f7c12e35b23ad  345ecd01c38d18a9036ed96c73b8d066   \n",
       "\n",
       "   customer_zip_code_prefix          customer_city customer_state  \n",
       "0                     14409                 franca             SP  \n",
       "1                      9790  sao bernardo do campo             SP  \n",
       "2                      1151              sao paulo             SP  \n",
       "3                      8775        mogi das cruzes             SP  \n",
       "4                     13056               campinas             SP  "
      ]
     },
     "execution_count": 4,
     "metadata": {},
     "output_type": "execute_result"
    }
   ],
   "source": [
    "df_customers.head()"
   ]
  },
  {
   "cell_type": "markdown",
   "metadata": {},
   "source": [
    "## Base de Lojistas"
   ]
  },
  {
   "cell_type": "code",
   "execution_count": 5,
   "metadata": {},
   "outputs": [
    {
     "data": {
      "text/html": [
       "<div>\n",
       "<style scoped>\n",
       "    .dataframe tbody tr th:only-of-type {\n",
       "        vertical-align: middle;\n",
       "    }\n",
       "\n",
       "    .dataframe tbody tr th {\n",
       "        vertical-align: top;\n",
       "    }\n",
       "\n",
       "    .dataframe thead th {\n",
       "        text-align: right;\n",
       "    }\n",
       "</style>\n",
       "<table border=\"1\" class=\"dataframe\">\n",
       "  <thead>\n",
       "    <tr style=\"text-align: right;\">\n",
       "      <th></th>\n",
       "      <th>seller_id</th>\n",
       "      <th>seller_zip_code_prefix</th>\n",
       "      <th>seller_city</th>\n",
       "      <th>seller_state</th>\n",
       "    </tr>\n",
       "  </thead>\n",
       "  <tbody>\n",
       "    <tr>\n",
       "      <th>0</th>\n",
       "      <td>3442f8959a84dea7ee197c632cb2df15</td>\n",
       "      <td>13023</td>\n",
       "      <td>campinas</td>\n",
       "      <td>SP</td>\n",
       "    </tr>\n",
       "    <tr>\n",
       "      <th>1</th>\n",
       "      <td>d1b65fc7debc3361ea86b5f14c68d2e2</td>\n",
       "      <td>13844</td>\n",
       "      <td>mogi guacu</td>\n",
       "      <td>SP</td>\n",
       "    </tr>\n",
       "    <tr>\n",
       "      <th>2</th>\n",
       "      <td>ce3ad9de960102d0677a81f5d0bb7b2d</td>\n",
       "      <td>20031</td>\n",
       "      <td>rio de janeiro</td>\n",
       "      <td>RJ</td>\n",
       "    </tr>\n",
       "    <tr>\n",
       "      <th>3</th>\n",
       "      <td>c0f3eea2e14555b6faeea3dd58c1b1c3</td>\n",
       "      <td>4195</td>\n",
       "      <td>sao paulo</td>\n",
       "      <td>SP</td>\n",
       "    </tr>\n",
       "    <tr>\n",
       "      <th>4</th>\n",
       "      <td>51a04a8a6bdcb23deccc82b0b80742cf</td>\n",
       "      <td>12914</td>\n",
       "      <td>braganca paulista</td>\n",
       "      <td>SP</td>\n",
       "    </tr>\n",
       "  </tbody>\n",
       "</table>\n",
       "</div>"
      ],
      "text/plain": [
       "                          seller_id  seller_zip_code_prefix  \\\n",
       "0  3442f8959a84dea7ee197c632cb2df15                   13023   \n",
       "1  d1b65fc7debc3361ea86b5f14c68d2e2                   13844   \n",
       "2  ce3ad9de960102d0677a81f5d0bb7b2d                   20031   \n",
       "3  c0f3eea2e14555b6faeea3dd58c1b1c3                    4195   \n",
       "4  51a04a8a6bdcb23deccc82b0b80742cf                   12914   \n",
       "\n",
       "         seller_city seller_state  \n",
       "0           campinas           SP  \n",
       "1         mogi guacu           SP  \n",
       "2     rio de janeiro           RJ  \n",
       "3          sao paulo           SP  \n",
       "4  braganca paulista           SP  "
      ]
     },
     "execution_count": 5,
     "metadata": {},
     "output_type": "execute_result"
    }
   ],
   "source": [
    "df_sellers.head()"
   ]
  },
  {
   "cell_type": "markdown",
   "metadata": {},
   "source": [
    "## Base de Geolocalizações"
   ]
  },
  {
   "cell_type": "code",
   "execution_count": 6,
   "metadata": {},
   "outputs": [
    {
     "data": {
      "text/html": [
       "<div>\n",
       "<style scoped>\n",
       "    .dataframe tbody tr th:only-of-type {\n",
       "        vertical-align: middle;\n",
       "    }\n",
       "\n",
       "    .dataframe tbody tr th {\n",
       "        vertical-align: top;\n",
       "    }\n",
       "\n",
       "    .dataframe thead th {\n",
       "        text-align: right;\n",
       "    }\n",
       "</style>\n",
       "<table border=\"1\" class=\"dataframe\">\n",
       "  <thead>\n",
       "    <tr style=\"text-align: right;\">\n",
       "      <th></th>\n",
       "      <th>geolocation_zip_code_prefix</th>\n",
       "      <th>geolocation_lat</th>\n",
       "      <th>geolocation_lng</th>\n",
       "      <th>geolocation_city</th>\n",
       "      <th>geolocation_state</th>\n",
       "    </tr>\n",
       "  </thead>\n",
       "  <tbody>\n",
       "    <tr>\n",
       "      <th>0</th>\n",
       "      <td>1037</td>\n",
       "      <td>-23.545621</td>\n",
       "      <td>-46.639292</td>\n",
       "      <td>sao paulo</td>\n",
       "      <td>SP</td>\n",
       "    </tr>\n",
       "    <tr>\n",
       "      <th>1</th>\n",
       "      <td>1046</td>\n",
       "      <td>-23.546081</td>\n",
       "      <td>-46.644820</td>\n",
       "      <td>sao paulo</td>\n",
       "      <td>SP</td>\n",
       "    </tr>\n",
       "    <tr>\n",
       "      <th>2</th>\n",
       "      <td>1046</td>\n",
       "      <td>-23.546129</td>\n",
       "      <td>-46.642951</td>\n",
       "      <td>sao paulo</td>\n",
       "      <td>SP</td>\n",
       "    </tr>\n",
       "    <tr>\n",
       "      <th>3</th>\n",
       "      <td>1041</td>\n",
       "      <td>-23.544392</td>\n",
       "      <td>-46.639499</td>\n",
       "      <td>sao paulo</td>\n",
       "      <td>SP</td>\n",
       "    </tr>\n",
       "    <tr>\n",
       "      <th>4</th>\n",
       "      <td>1035</td>\n",
       "      <td>-23.541578</td>\n",
       "      <td>-46.641607</td>\n",
       "      <td>sao paulo</td>\n",
       "      <td>SP</td>\n",
       "    </tr>\n",
       "  </tbody>\n",
       "</table>\n",
       "</div>"
      ],
      "text/plain": [
       "   geolocation_zip_code_prefix  geolocation_lat  geolocation_lng  \\\n",
       "0                         1037       -23.545621       -46.639292   \n",
       "1                         1046       -23.546081       -46.644820   \n",
       "2                         1046       -23.546129       -46.642951   \n",
       "3                         1041       -23.544392       -46.639499   \n",
       "4                         1035       -23.541578       -46.641607   \n",
       "\n",
       "  geolocation_city geolocation_state  \n",
       "0        sao paulo                SP  \n",
       "1        sao paulo                SP  \n",
       "2        sao paulo                SP  \n",
       "3        sao paulo                SP  \n",
       "4        sao paulo                SP  "
      ]
     },
     "execution_count": 6,
     "metadata": {},
     "output_type": "execute_result"
    }
   ],
   "source": [
    "df_geolocation.head()"
   ]
  },
  {
   "cell_type": "markdown",
   "metadata": {},
   "source": [
    "## Base de Pedidos"
   ]
  },
  {
   "cell_type": "code",
   "execution_count": 7,
   "metadata": {},
   "outputs": [
    {
     "data": {
      "text/html": [
       "<div>\n",
       "<style scoped>\n",
       "    .dataframe tbody tr th:only-of-type {\n",
       "        vertical-align: middle;\n",
       "    }\n",
       "\n",
       "    .dataframe tbody tr th {\n",
       "        vertical-align: top;\n",
       "    }\n",
       "\n",
       "    .dataframe thead th {\n",
       "        text-align: right;\n",
       "    }\n",
       "</style>\n",
       "<table border=\"1\" class=\"dataframe\">\n",
       "  <thead>\n",
       "    <tr style=\"text-align: right;\">\n",
       "      <th></th>\n",
       "      <th>order_id</th>\n",
       "      <th>customer_id</th>\n",
       "      <th>order_status</th>\n",
       "      <th>order_purchase_timestamp</th>\n",
       "      <th>order_approved_at</th>\n",
       "      <th>order_delivered_carrier_date</th>\n",
       "      <th>order_delivered_customer_date</th>\n",
       "      <th>order_estimated_delivery_date</th>\n",
       "    </tr>\n",
       "  </thead>\n",
       "  <tbody>\n",
       "    <tr>\n",
       "      <th>0</th>\n",
       "      <td>e481f51cbdc54678b7cc49136f2d6af7</td>\n",
       "      <td>9ef432eb6251297304e76186b10a928d</td>\n",
       "      <td>delivered</td>\n",
       "      <td>2017-10-02 10:56:33</td>\n",
       "      <td>2017-10-02 11:07:15</td>\n",
       "      <td>2017-10-04 19:55:00</td>\n",
       "      <td>2017-10-10 21:25:13</td>\n",
       "      <td>2017-10-18 00:00:00</td>\n",
       "    </tr>\n",
       "    <tr>\n",
       "      <th>1</th>\n",
       "      <td>53cdb2fc8bc7dce0b6741e2150273451</td>\n",
       "      <td>b0830fb4747a6c6d20dea0b8c802d7ef</td>\n",
       "      <td>delivered</td>\n",
       "      <td>2018-07-24 20:41:37</td>\n",
       "      <td>2018-07-26 03:24:27</td>\n",
       "      <td>2018-07-26 14:31:00</td>\n",
       "      <td>2018-08-07 15:27:45</td>\n",
       "      <td>2018-08-13 00:00:00</td>\n",
       "    </tr>\n",
       "    <tr>\n",
       "      <th>2</th>\n",
       "      <td>47770eb9100c2d0c44946d9cf07ec65d</td>\n",
       "      <td>41ce2a54c0b03bf3443c3d931a367089</td>\n",
       "      <td>delivered</td>\n",
       "      <td>2018-08-08 08:38:49</td>\n",
       "      <td>2018-08-08 08:55:23</td>\n",
       "      <td>2018-08-08 13:50:00</td>\n",
       "      <td>2018-08-17 18:06:29</td>\n",
       "      <td>2018-09-04 00:00:00</td>\n",
       "    </tr>\n",
       "    <tr>\n",
       "      <th>3</th>\n",
       "      <td>949d5b44dbf5de918fe9c16f97b45f8a</td>\n",
       "      <td>f88197465ea7920adcdbec7375364d82</td>\n",
       "      <td>delivered</td>\n",
       "      <td>2017-11-18 19:28:06</td>\n",
       "      <td>2017-11-18 19:45:59</td>\n",
       "      <td>2017-11-22 13:39:59</td>\n",
       "      <td>2017-12-02 00:28:42</td>\n",
       "      <td>2017-12-15 00:00:00</td>\n",
       "    </tr>\n",
       "    <tr>\n",
       "      <th>4</th>\n",
       "      <td>ad21c59c0840e6cb83a9ceb5573f8159</td>\n",
       "      <td>8ab97904e6daea8866dbdbc4fb7aad2c</td>\n",
       "      <td>delivered</td>\n",
       "      <td>2018-02-13 21:18:39</td>\n",
       "      <td>2018-02-13 22:20:29</td>\n",
       "      <td>2018-02-14 19:46:34</td>\n",
       "      <td>2018-02-16 18:17:02</td>\n",
       "      <td>2018-02-26 00:00:00</td>\n",
       "    </tr>\n",
       "  </tbody>\n",
       "</table>\n",
       "</div>"
      ],
      "text/plain": [
       "                           order_id                       customer_id  \\\n",
       "0  e481f51cbdc54678b7cc49136f2d6af7  9ef432eb6251297304e76186b10a928d   \n",
       "1  53cdb2fc8bc7dce0b6741e2150273451  b0830fb4747a6c6d20dea0b8c802d7ef   \n",
       "2  47770eb9100c2d0c44946d9cf07ec65d  41ce2a54c0b03bf3443c3d931a367089   \n",
       "3  949d5b44dbf5de918fe9c16f97b45f8a  f88197465ea7920adcdbec7375364d82   \n",
       "4  ad21c59c0840e6cb83a9ceb5573f8159  8ab97904e6daea8866dbdbc4fb7aad2c   \n",
       "\n",
       "  order_status order_purchase_timestamp    order_approved_at  \\\n",
       "0    delivered      2017-10-02 10:56:33  2017-10-02 11:07:15   \n",
       "1    delivered      2018-07-24 20:41:37  2018-07-26 03:24:27   \n",
       "2    delivered      2018-08-08 08:38:49  2018-08-08 08:55:23   \n",
       "3    delivered      2017-11-18 19:28:06  2017-11-18 19:45:59   \n",
       "4    delivered      2018-02-13 21:18:39  2018-02-13 22:20:29   \n",
       "\n",
       "  order_delivered_carrier_date order_delivered_customer_date  \\\n",
       "0          2017-10-04 19:55:00           2017-10-10 21:25:13   \n",
       "1          2018-07-26 14:31:00           2018-08-07 15:27:45   \n",
       "2          2018-08-08 13:50:00           2018-08-17 18:06:29   \n",
       "3          2017-11-22 13:39:59           2017-12-02 00:28:42   \n",
       "4          2018-02-14 19:46:34           2018-02-16 18:17:02   \n",
       "\n",
       "  order_estimated_delivery_date  \n",
       "0           2017-10-18 00:00:00  \n",
       "1           2018-08-13 00:00:00  \n",
       "2           2018-09-04 00:00:00  \n",
       "3           2017-12-15 00:00:00  \n",
       "4           2018-02-26 00:00:00  "
      ]
     },
     "execution_count": 7,
     "metadata": {},
     "output_type": "execute_result"
    }
   ],
   "source": [
    "df_orders.head()"
   ]
  },
  {
   "cell_type": "markdown",
   "metadata": {},
   "source": [
    "## Itens do pedido"
   ]
  },
  {
   "cell_type": "code",
   "execution_count": 9,
   "metadata": {},
   "outputs": [
    {
     "data": {
      "text/html": [
       "<div>\n",
       "<style scoped>\n",
       "    .dataframe tbody tr th:only-of-type {\n",
       "        vertical-align: middle;\n",
       "    }\n",
       "\n",
       "    .dataframe tbody tr th {\n",
       "        vertical-align: top;\n",
       "    }\n",
       "\n",
       "    .dataframe thead th {\n",
       "        text-align: right;\n",
       "    }\n",
       "</style>\n",
       "<table border=\"1\" class=\"dataframe\">\n",
       "  <thead>\n",
       "    <tr style=\"text-align: right;\">\n",
       "      <th></th>\n",
       "      <th>order_id</th>\n",
       "      <th>order_item_id</th>\n",
       "      <th>product_id</th>\n",
       "      <th>seller_id</th>\n",
       "      <th>shipping_limit_date</th>\n",
       "      <th>price</th>\n",
       "      <th>freight_value</th>\n",
       "    </tr>\n",
       "  </thead>\n",
       "  <tbody>\n",
       "    <tr>\n",
       "      <th>0</th>\n",
       "      <td>00010242fe8c5a6d1ba2dd792cb16214</td>\n",
       "      <td>1</td>\n",
       "      <td>4244733e06e7ecb4970a6e2683c13e61</td>\n",
       "      <td>48436dade18ac8b2bce089ec2a041202</td>\n",
       "      <td>2017-09-19 09:45:35</td>\n",
       "      <td>58.90</td>\n",
       "      <td>13.29</td>\n",
       "    </tr>\n",
       "    <tr>\n",
       "      <th>1</th>\n",
       "      <td>00018f77f2f0320c557190d7a144bdd3</td>\n",
       "      <td>1</td>\n",
       "      <td>e5f2d52b802189ee658865ca93d83a8f</td>\n",
       "      <td>dd7ddc04e1b6c2c614352b383efe2d36</td>\n",
       "      <td>2017-05-03 11:05:13</td>\n",
       "      <td>239.90</td>\n",
       "      <td>19.93</td>\n",
       "    </tr>\n",
       "    <tr>\n",
       "      <th>2</th>\n",
       "      <td>000229ec398224ef6ca0657da4fc703e</td>\n",
       "      <td>1</td>\n",
       "      <td>c777355d18b72b67abbeef9df44fd0fd</td>\n",
       "      <td>5b51032eddd242adc84c38acab88f23d</td>\n",
       "      <td>2018-01-18 14:48:30</td>\n",
       "      <td>199.00</td>\n",
       "      <td>17.87</td>\n",
       "    </tr>\n",
       "    <tr>\n",
       "      <th>3</th>\n",
       "      <td>00024acbcdf0a6daa1e931b038114c75</td>\n",
       "      <td>1</td>\n",
       "      <td>7634da152a4610f1595efa32f14722fc</td>\n",
       "      <td>9d7a1d34a5052409006425275ba1c2b4</td>\n",
       "      <td>2018-08-15 10:10:18</td>\n",
       "      <td>12.99</td>\n",
       "      <td>12.79</td>\n",
       "    </tr>\n",
       "    <tr>\n",
       "      <th>4</th>\n",
       "      <td>00042b26cf59d7ce69dfabb4e55b4fd9</td>\n",
       "      <td>1</td>\n",
       "      <td>ac6c3623068f30de03045865e4e10089</td>\n",
       "      <td>df560393f3a51e74553ab94004ba5c87</td>\n",
       "      <td>2017-02-13 13:57:51</td>\n",
       "      <td>199.90</td>\n",
       "      <td>18.14</td>\n",
       "    </tr>\n",
       "  </tbody>\n",
       "</table>\n",
       "</div>"
      ],
      "text/plain": [
       "                           order_id  order_item_id  \\\n",
       "0  00010242fe8c5a6d1ba2dd792cb16214              1   \n",
       "1  00018f77f2f0320c557190d7a144bdd3              1   \n",
       "2  000229ec398224ef6ca0657da4fc703e              1   \n",
       "3  00024acbcdf0a6daa1e931b038114c75              1   \n",
       "4  00042b26cf59d7ce69dfabb4e55b4fd9              1   \n",
       "\n",
       "                         product_id                         seller_id  \\\n",
       "0  4244733e06e7ecb4970a6e2683c13e61  48436dade18ac8b2bce089ec2a041202   \n",
       "1  e5f2d52b802189ee658865ca93d83a8f  dd7ddc04e1b6c2c614352b383efe2d36   \n",
       "2  c777355d18b72b67abbeef9df44fd0fd  5b51032eddd242adc84c38acab88f23d   \n",
       "3  7634da152a4610f1595efa32f14722fc  9d7a1d34a5052409006425275ba1c2b4   \n",
       "4  ac6c3623068f30de03045865e4e10089  df560393f3a51e74553ab94004ba5c87   \n",
       "\n",
       "   shipping_limit_date   price  freight_value  \n",
       "0  2017-09-19 09:45:35   58.90          13.29  \n",
       "1  2017-05-03 11:05:13  239.90          19.93  \n",
       "2  2018-01-18 14:48:30  199.00          17.87  \n",
       "3  2018-08-15 10:10:18   12.99          12.79  \n",
       "4  2017-02-13 13:57:51  199.90          18.14  "
      ]
     },
     "execution_count": 9,
     "metadata": {},
     "output_type": "execute_result"
    }
   ],
   "source": [
    "df_order_items.head()"
   ]
  },
  {
   "cell_type": "markdown",
   "metadata": {},
   "source": [
    "## Forma de pagamento de cada pedido"
   ]
  },
  {
   "cell_type": "code",
   "execution_count": 10,
   "metadata": {},
   "outputs": [
    {
     "data": {
      "text/html": [
       "<div>\n",
       "<style scoped>\n",
       "    .dataframe tbody tr th:only-of-type {\n",
       "        vertical-align: middle;\n",
       "    }\n",
       "\n",
       "    .dataframe tbody tr th {\n",
       "        vertical-align: top;\n",
       "    }\n",
       "\n",
       "    .dataframe thead th {\n",
       "        text-align: right;\n",
       "    }\n",
       "</style>\n",
       "<table border=\"1\" class=\"dataframe\">\n",
       "  <thead>\n",
       "    <tr style=\"text-align: right;\">\n",
       "      <th></th>\n",
       "      <th>order_id</th>\n",
       "      <th>payment_sequential</th>\n",
       "      <th>payment_type</th>\n",
       "      <th>payment_installments</th>\n",
       "      <th>payment_value</th>\n",
       "    </tr>\n",
       "  </thead>\n",
       "  <tbody>\n",
       "    <tr>\n",
       "      <th>0</th>\n",
       "      <td>b81ef226f3fe1789b1e8b2acac839d17</td>\n",
       "      <td>1</td>\n",
       "      <td>credit_card</td>\n",
       "      <td>8</td>\n",
       "      <td>99.33</td>\n",
       "    </tr>\n",
       "    <tr>\n",
       "      <th>1</th>\n",
       "      <td>a9810da82917af2d9aefd1278f1dcfa0</td>\n",
       "      <td>1</td>\n",
       "      <td>credit_card</td>\n",
       "      <td>1</td>\n",
       "      <td>24.39</td>\n",
       "    </tr>\n",
       "    <tr>\n",
       "      <th>2</th>\n",
       "      <td>25e8ea4e93396b6fa0d3dd708e76c1bd</td>\n",
       "      <td>1</td>\n",
       "      <td>credit_card</td>\n",
       "      <td>1</td>\n",
       "      <td>65.71</td>\n",
       "    </tr>\n",
       "    <tr>\n",
       "      <th>3</th>\n",
       "      <td>ba78997921bbcdc1373bb41e913ab953</td>\n",
       "      <td>1</td>\n",
       "      <td>credit_card</td>\n",
       "      <td>8</td>\n",
       "      <td>107.78</td>\n",
       "    </tr>\n",
       "    <tr>\n",
       "      <th>4</th>\n",
       "      <td>42fdf880ba16b47b59251dd489d4441a</td>\n",
       "      <td>1</td>\n",
       "      <td>credit_card</td>\n",
       "      <td>2</td>\n",
       "      <td>128.45</td>\n",
       "    </tr>\n",
       "  </tbody>\n",
       "</table>\n",
       "</div>"
      ],
      "text/plain": [
       "                           order_id  payment_sequential payment_type  \\\n",
       "0  b81ef226f3fe1789b1e8b2acac839d17                   1  credit_card   \n",
       "1  a9810da82917af2d9aefd1278f1dcfa0                   1  credit_card   \n",
       "2  25e8ea4e93396b6fa0d3dd708e76c1bd                   1  credit_card   \n",
       "3  ba78997921bbcdc1373bb41e913ab953                   1  credit_card   \n",
       "4  42fdf880ba16b47b59251dd489d4441a                   1  credit_card   \n",
       "\n",
       "   payment_installments  payment_value  \n",
       "0                     8          99.33  \n",
       "1                     1          24.39  \n",
       "2                     1          65.71  \n",
       "3                     8         107.78  \n",
       "4                     2         128.45  "
      ]
     },
     "execution_count": 10,
     "metadata": {},
     "output_type": "execute_result"
    }
   ],
   "source": [
    "df_order_payments.head()"
   ]
  },
  {
   "cell_type": "markdown",
   "metadata": {},
   "source": [
    "## Retorno de clientes sobre a compra realizada"
   ]
  },
  {
   "cell_type": "code",
   "execution_count": 11,
   "metadata": {},
   "outputs": [
    {
     "data": {
      "text/html": [
       "<div>\n",
       "<style scoped>\n",
       "    .dataframe tbody tr th:only-of-type {\n",
       "        vertical-align: middle;\n",
       "    }\n",
       "\n",
       "    .dataframe tbody tr th {\n",
       "        vertical-align: top;\n",
       "    }\n",
       "\n",
       "    .dataframe thead th {\n",
       "        text-align: right;\n",
       "    }\n",
       "</style>\n",
       "<table border=\"1\" class=\"dataframe\">\n",
       "  <thead>\n",
       "    <tr style=\"text-align: right;\">\n",
       "      <th></th>\n",
       "      <th>review_id</th>\n",
       "      <th>order_id</th>\n",
       "      <th>review_score</th>\n",
       "      <th>review_comment_title</th>\n",
       "      <th>review_comment_message</th>\n",
       "      <th>review_creation_date</th>\n",
       "      <th>review_answer_timestamp</th>\n",
       "    </tr>\n",
       "  </thead>\n",
       "  <tbody>\n",
       "    <tr>\n",
       "      <th>0</th>\n",
       "      <td>7bc2406110b926393aa56f80a40eba40</td>\n",
       "      <td>73fc7af87114b39712e6da79b0a377eb</td>\n",
       "      <td>4</td>\n",
       "      <td>NaN</td>\n",
       "      <td>NaN</td>\n",
       "      <td>2018-01-18 00:00:00</td>\n",
       "      <td>2018-01-18 21:46:59</td>\n",
       "    </tr>\n",
       "    <tr>\n",
       "      <th>1</th>\n",
       "      <td>80e641a11e56f04c1ad469d5645fdfde</td>\n",
       "      <td>a548910a1c6147796b98fdf73dbeba33</td>\n",
       "      <td>5</td>\n",
       "      <td>NaN</td>\n",
       "      <td>NaN</td>\n",
       "      <td>2018-03-10 00:00:00</td>\n",
       "      <td>2018-03-11 03:05:13</td>\n",
       "    </tr>\n",
       "    <tr>\n",
       "      <th>2</th>\n",
       "      <td>228ce5500dc1d8e020d8d1322874b6f0</td>\n",
       "      <td>f9e4b658b201a9f2ecdecbb34bed034b</td>\n",
       "      <td>5</td>\n",
       "      <td>NaN</td>\n",
       "      <td>NaN</td>\n",
       "      <td>2018-02-17 00:00:00</td>\n",
       "      <td>2018-02-18 14:36:24</td>\n",
       "    </tr>\n",
       "    <tr>\n",
       "      <th>3</th>\n",
       "      <td>e64fb393e7b32834bb789ff8bb30750e</td>\n",
       "      <td>658677c97b385a9be170737859d3511b</td>\n",
       "      <td>5</td>\n",
       "      <td>NaN</td>\n",
       "      <td>Recebi bem antes do prazo estipulado.</td>\n",
       "      <td>2017-04-21 00:00:00</td>\n",
       "      <td>2017-04-21 22:02:06</td>\n",
       "    </tr>\n",
       "    <tr>\n",
       "      <th>4</th>\n",
       "      <td>f7c4243c7fe1938f181bec41a392bdeb</td>\n",
       "      <td>8e6bfb81e283fa7e4f11123a3fb894f1</td>\n",
       "      <td>5</td>\n",
       "      <td>NaN</td>\n",
       "      <td>ParabÃ©ns lojas lannister adorei comprar pela ...</td>\n",
       "      <td>2018-03-01 00:00:00</td>\n",
       "      <td>2018-03-02 10:26:53</td>\n",
       "    </tr>\n",
       "  </tbody>\n",
       "</table>\n",
       "</div>"
      ],
      "text/plain": [
       "                          review_id                          order_id  \\\n",
       "0  7bc2406110b926393aa56f80a40eba40  73fc7af87114b39712e6da79b0a377eb   \n",
       "1  80e641a11e56f04c1ad469d5645fdfde  a548910a1c6147796b98fdf73dbeba33   \n",
       "2  228ce5500dc1d8e020d8d1322874b6f0  f9e4b658b201a9f2ecdecbb34bed034b   \n",
       "3  e64fb393e7b32834bb789ff8bb30750e  658677c97b385a9be170737859d3511b   \n",
       "4  f7c4243c7fe1938f181bec41a392bdeb  8e6bfb81e283fa7e4f11123a3fb894f1   \n",
       "\n",
       "   review_score review_comment_title  \\\n",
       "0             4                  NaN   \n",
       "1             5                  NaN   \n",
       "2             5                  NaN   \n",
       "3             5                  NaN   \n",
       "4             5                  NaN   \n",
       "\n",
       "                              review_comment_message review_creation_date  \\\n",
       "0                                                NaN  2018-01-18 00:00:00   \n",
       "1                                                NaN  2018-03-10 00:00:00   \n",
       "2                                                NaN  2018-02-17 00:00:00   \n",
       "3              Recebi bem antes do prazo estipulado.  2017-04-21 00:00:00   \n",
       "4  ParabÃ©ns lojas lannister adorei comprar pela ...  2018-03-01 00:00:00   \n",
       "\n",
       "  review_answer_timestamp  \n",
       "0     2018-01-18 21:46:59  \n",
       "1     2018-03-11 03:05:13  \n",
       "2     2018-02-18 14:36:24  \n",
       "3     2017-04-21 22:02:06  \n",
       "4     2018-03-02 10:26:53  "
      ]
     },
     "execution_count": 11,
     "metadata": {},
     "output_type": "execute_result"
    }
   ],
   "source": [
    "df_order_reviews.head()"
   ]
  },
  {
   "cell_type": "markdown",
   "metadata": {},
   "source": [
    "## Dados cadastrais de cada produto"
   ]
  },
  {
   "cell_type": "code",
   "execution_count": 12,
   "metadata": {},
   "outputs": [
    {
     "data": {
      "text/html": [
       "<div>\n",
       "<style scoped>\n",
       "    .dataframe tbody tr th:only-of-type {\n",
       "        vertical-align: middle;\n",
       "    }\n",
       "\n",
       "    .dataframe tbody tr th {\n",
       "        vertical-align: top;\n",
       "    }\n",
       "\n",
       "    .dataframe thead th {\n",
       "        text-align: right;\n",
       "    }\n",
       "</style>\n",
       "<table border=\"1\" class=\"dataframe\">\n",
       "  <thead>\n",
       "    <tr style=\"text-align: right;\">\n",
       "      <th></th>\n",
       "      <th>product_id</th>\n",
       "      <th>product_category_name</th>\n",
       "      <th>product_name_lenght</th>\n",
       "      <th>product_description_lenght</th>\n",
       "      <th>product_photos_qty</th>\n",
       "      <th>product_weight_g</th>\n",
       "      <th>product_length_cm</th>\n",
       "      <th>product_height_cm</th>\n",
       "      <th>product_width_cm</th>\n",
       "    </tr>\n",
       "  </thead>\n",
       "  <tbody>\n",
       "    <tr>\n",
       "      <th>0</th>\n",
       "      <td>1e9e8ef04dbcff4541ed26657ea517e5</td>\n",
       "      <td>perfumaria</td>\n",
       "      <td>40.0</td>\n",
       "      <td>287.0</td>\n",
       "      <td>1.0</td>\n",
       "      <td>225.0</td>\n",
       "      <td>16.0</td>\n",
       "      <td>10.0</td>\n",
       "      <td>14.0</td>\n",
       "    </tr>\n",
       "    <tr>\n",
       "      <th>1</th>\n",
       "      <td>3aa071139cb16b67ca9e5dea641aaa2f</td>\n",
       "      <td>artes</td>\n",
       "      <td>44.0</td>\n",
       "      <td>276.0</td>\n",
       "      <td>1.0</td>\n",
       "      <td>1000.0</td>\n",
       "      <td>30.0</td>\n",
       "      <td>18.0</td>\n",
       "      <td>20.0</td>\n",
       "    </tr>\n",
       "    <tr>\n",
       "      <th>2</th>\n",
       "      <td>96bd76ec8810374ed1b65e291975717f</td>\n",
       "      <td>esporte_lazer</td>\n",
       "      <td>46.0</td>\n",
       "      <td>250.0</td>\n",
       "      <td>1.0</td>\n",
       "      <td>154.0</td>\n",
       "      <td>18.0</td>\n",
       "      <td>9.0</td>\n",
       "      <td>15.0</td>\n",
       "    </tr>\n",
       "    <tr>\n",
       "      <th>3</th>\n",
       "      <td>cef67bcfe19066a932b7673e239eb23d</td>\n",
       "      <td>bebes</td>\n",
       "      <td>27.0</td>\n",
       "      <td>261.0</td>\n",
       "      <td>1.0</td>\n",
       "      <td>371.0</td>\n",
       "      <td>26.0</td>\n",
       "      <td>4.0</td>\n",
       "      <td>26.0</td>\n",
       "    </tr>\n",
       "    <tr>\n",
       "      <th>4</th>\n",
       "      <td>9dc1a7de274444849c219cff195d0b71</td>\n",
       "      <td>utilidades_domesticas</td>\n",
       "      <td>37.0</td>\n",
       "      <td>402.0</td>\n",
       "      <td>4.0</td>\n",
       "      <td>625.0</td>\n",
       "      <td>20.0</td>\n",
       "      <td>17.0</td>\n",
       "      <td>13.0</td>\n",
       "    </tr>\n",
       "  </tbody>\n",
       "</table>\n",
       "</div>"
      ],
      "text/plain": [
       "                         product_id  product_category_name  \\\n",
       "0  1e9e8ef04dbcff4541ed26657ea517e5             perfumaria   \n",
       "1  3aa071139cb16b67ca9e5dea641aaa2f                  artes   \n",
       "2  96bd76ec8810374ed1b65e291975717f          esporte_lazer   \n",
       "3  cef67bcfe19066a932b7673e239eb23d                  bebes   \n",
       "4  9dc1a7de274444849c219cff195d0b71  utilidades_domesticas   \n",
       "\n",
       "   product_name_lenght  product_description_lenght  product_photos_qty  \\\n",
       "0                 40.0                       287.0                 1.0   \n",
       "1                 44.0                       276.0                 1.0   \n",
       "2                 46.0                       250.0                 1.0   \n",
       "3                 27.0                       261.0                 1.0   \n",
       "4                 37.0                       402.0                 4.0   \n",
       "\n",
       "   product_weight_g  product_length_cm  product_height_cm  product_width_cm  \n",
       "0             225.0               16.0               10.0              14.0  \n",
       "1            1000.0               30.0               18.0              20.0  \n",
       "2             154.0               18.0                9.0              15.0  \n",
       "3             371.0               26.0                4.0              26.0  \n",
       "4             625.0               20.0               17.0              13.0  "
      ]
     },
     "execution_count": 12,
     "metadata": {},
     "output_type": "execute_result"
    }
   ],
   "source": [
    "df_products.head()"
   ]
  },
  {
   "cell_type": "markdown",
   "metadata": {},
   "source": [
    "## Tradução das categorias de produtos"
   ]
  },
  {
   "cell_type": "code",
   "execution_count": 13,
   "metadata": {},
   "outputs": [
    {
     "data": {
      "text/html": [
       "<div>\n",
       "<style scoped>\n",
       "    .dataframe tbody tr th:only-of-type {\n",
       "        vertical-align: middle;\n",
       "    }\n",
       "\n",
       "    .dataframe tbody tr th {\n",
       "        vertical-align: top;\n",
       "    }\n",
       "\n",
       "    .dataframe thead th {\n",
       "        text-align: right;\n",
       "    }\n",
       "</style>\n",
       "<table border=\"1\" class=\"dataframe\">\n",
       "  <thead>\n",
       "    <tr style=\"text-align: right;\">\n",
       "      <th></th>\n",
       "      <th>product_category_name</th>\n",
       "      <th>product_category_name_english</th>\n",
       "    </tr>\n",
       "  </thead>\n",
       "  <tbody>\n",
       "    <tr>\n",
       "      <th>0</th>\n",
       "      <td>beleza_saude</td>\n",
       "      <td>health_beauty</td>\n",
       "    </tr>\n",
       "    <tr>\n",
       "      <th>1</th>\n",
       "      <td>informatica_acessorios</td>\n",
       "      <td>computers_accessories</td>\n",
       "    </tr>\n",
       "    <tr>\n",
       "      <th>2</th>\n",
       "      <td>automotivo</td>\n",
       "      <td>auto</td>\n",
       "    </tr>\n",
       "    <tr>\n",
       "      <th>3</th>\n",
       "      <td>cama_mesa_banho</td>\n",
       "      <td>bed_bath_table</td>\n",
       "    </tr>\n",
       "    <tr>\n",
       "      <th>4</th>\n",
       "      <td>moveis_decoracao</td>\n",
       "      <td>furniture_decor</td>\n",
       "    </tr>\n",
       "  </tbody>\n",
       "</table>\n",
       "</div>"
      ],
      "text/plain": [
       "    product_category_name product_category_name_english\n",
       "0            beleza_saude                 health_beauty\n",
       "1  informatica_acessorios         computers_accessories\n",
       "2              automotivo                          auto\n",
       "3         cama_mesa_banho                bed_bath_table\n",
       "4        moveis_decoracao               furniture_decor"
      ]
     },
     "execution_count": 13,
     "metadata": {},
     "output_type": "execute_result"
    }
   ],
   "source": [
    "df_product_category_name_translation.head()"
   ]
  },
  {
   "cell_type": "markdown",
   "metadata": {},
   "source": [
    "## Ranqueando de Lojistas "
   ]
  },
  {
   "cell_type": "markdown",
   "metadata": {},
   "source": [
    "### Para verificarmos se todos os lojistas devem receber os mesmos benefícios ou se há algum que merece destaque, vamos realizar uma análise através de alguns KPI's para validarmos o desempenho de cada lojista"
   ]
  },
  {
   "cell_type": "markdown",
   "metadata": {},
   "source": [
    "### KPI's a serem utilizados:\n",
    "\n",
    "* Quantidade de Pedidos \n",
    "* Quantidade de Produtos Vendidos\n",
    "* Valor Total de Vendas\n",
    "* Quantidade de Pedidos Entregues\n",
    "* Quantidade de Pedidos Entregues antes do prazo\n",
    "* Quantidade de Pedidos Entregues depois do prazo\n",
    "* Quantidade de Avaliações com Score 5\n",
    "* Quantidade de Avaliações com Score 4\n",
    "* Quantidade de Avaliações com Score 3\n",
    "* Quantidade de Avaliações com Score 2\n",
    "* Quantidade de Avaliações com Score 1"
   ]
  },
  {
   "cell_type": "markdown",
   "metadata": {},
   "source": [
    "## Criando um dataframe que receberá os dados que compõem cada KPI definido anteriormente\n",
    "* Colunas do Dataframe:\n",
    "    * **seller_id** : ID do Lojista\n",
    "    * **count_orders** : Quantidade de Pedidos\n",
    "    * **count_products** : Quantidade de Produtos Vendidos\n",
    "    * **sum_price_orders** : Valor Total de Vendas\n",
    "    * **count_orders_delivered** : Quantidade de Pedidos Entregues\n",
    "    * **count_review_score_5** : Quantidade de Avaliações com Score 5\n",
    "    * **count_review_score_4** : Quantidade de Avaliações com Score 4\n",
    "    * **count_review_score_3** : Quantidade de Avaliações com Score 3\n",
    "    * **count_review_score_2** : Quantidade de Avaliações com Score 2\n",
    "    * **count_review_score_1** : Quantidade de Avaliações com Score 1\n",
    "    * **count_early_delivery** : Quantidade de Pedidos Entregues antes do prazo\n",
    "    * **count_late_delivery** : Quantidade de Pedidos Entregues depois do prazo"
   ]
  },
  {
   "cell_type": "code",
   "execution_count": 131,
   "metadata": {},
   "outputs": [],
   "source": [
    "df_rank_sellers = pd.DataFrame(columns=['seller_id', 'count_orders', 'count_products','sum_price_orders', 'count_orders_delivered',\n",
    "                                        'count_review_score_5', 'count_review_score_4', 'count_review_score_3', 'count_review_score_2', \n",
    "                                        'count_review_score_1', 'count_early_delivery', 'count_late_delivery'])"
   ]
  },
  {
   "cell_type": "markdown",
   "metadata": {},
   "source": [
    "## Preenchendo o dataframe df_rank_sellers"
   ]
  },
  {
   "cell_type": "code",
   "execution_count": null,
   "metadata": {},
   "outputs": [],
   "source": [
    "from IPython.display import clear_output\n",
    "\n",
    "for seller_id in df_sellers['seller_id']:\n",
    "    count_orders = len(df_order_items[df_order_items['seller_id'] == seller_id]['order_id'].unique())\n",
    "    count_products = df_order_items[df_order_items['seller_id'] == seller_id]['order_id'].count()\n",
    "    sum_price_orders = round(df_order_items[df_order_items['seller_id'] == seller_id]['price'].sum(),2)\n",
    "    \n",
    "    count_orders_delivered = 0\n",
    "    count_review_score_5 = 0\n",
    "    count_review_score_4 = 0\n",
    "    count_review_score_3 = 0\n",
    "    count_review_score_2 = 0\n",
    "    count_review_score_1 = 0\n",
    "    order_estimated_delivery_days = 0\n",
    "    order_delivered_customer_days = 0\n",
    "    count_early_delivery = 0\n",
    "    count_late_delivery = 0\n",
    "    \n",
    "    for order_id in df_order_items[df_order_items['seller_id'] == seller_id]['order_id'].unique():\n",
    "        order_estimated_delivery_date = pd.to_datetime(df_orders[df_orders['order_id'] ==  order_id]['order_estimated_delivery_date'], format='%Y-%m-%d %H:%M:%S')\n",
    "        order_approved_at = pd.to_datetime(df_orders[df_orders['order_id'] ==  order_id]['order_approved_at'], format='%Y-%m-%d %H:%M:%S')\n",
    "        order_delivered_customer_date = pd.to_datetime(df_orders[df_orders['order_id'] ==  order_id]['order_delivered_customer_date'], format='%Y-%m-%d %H:%M:%S')\n",
    "        \n",
    "        order_estimated_delivery_days = order_estimated_delivery_date - order_approved_at\n",
    "        order_delivered_customer_days = order_delivered_customer_date - order_approved_at\n",
    "        \n",
    "        if order_estimated_delivery_days.dt.days.unique()[0] > order_delivered_customer_days.dt.days.unique()[0]:\n",
    "            count_early_delivery += 1\n",
    "            \n",
    "        else:\n",
    "            count_late_delivery += 1\n",
    "        \n",
    "        if df_orders[df_orders['order_id'] == order_id]['order_status'].str.contains('delivered').item():\n",
    "            count_orders_delivered += 1\n",
    "            \n",
    "        count_review_score_5 += len(df_order_reviews[(df_order_reviews['order_id'] == order_id) & (df_order_reviews['review_score'] == 5)])\n",
    "        count_review_score_4 += len(df_order_reviews[(df_order_reviews['order_id'] == order_id) & (df_order_reviews['review_score'] == 4)])\n",
    "        count_review_score_3 += len(df_order_reviews[(df_order_reviews['order_id'] == order_id) & (df_order_reviews['review_score'] == 3)])\n",
    "        count_review_score_2 += len(df_order_reviews[(df_order_reviews['order_id'] == order_id) & (df_order_reviews['review_score'] == 2)])\n",
    "        count_review_score_1 += len(df_order_reviews[(df_order_reviews['order_id'] == order_id) & (df_order_reviews['review_score'] == 1)])\n",
    "        \n",
    "        \n",
    "    \n",
    "    df_rank_sellers = df_rank_sellers.append({'seller_id':seller_id,\n",
    "                                              'count_orders':count_orders,\n",
    "                                              'count_products':count_products,\n",
    "                                             'sum_price_orders':sum_price_orders,\n",
    "                                             'count_orders_delivered':count_orders_delivered,\n",
    "                                             'count_review_score_5':count_review_score_5,\n",
    "                                             'count_review_score_4':count_review_score_4,\n",
    "                                             'count_review_score_3':count_review_score_3,\n",
    "                                             'count_review_score_2':count_review_score_2,\n",
    "                                             'count_review_score_1':count_review_score_1,\n",
    "                                             'count_early_delivery':count_early_delivery,\n",
    "                                             'count_late_delivery':count_late_delivery}, ignore_index=True)"
   ]
  },
  {
   "cell_type": "markdown",
   "metadata": {},
   "source": [
    "## Salvando o dataframe df_rank_sellers em csv"
   ]
  },
  {
   "cell_type": "code",
   "execution_count": 3,
   "metadata": {},
   "outputs": [],
   "source": [
    "df_rank_sellers.to_csv('datasets/df_rank_sellers.csv')"
   ]
  },
  {
   "cell_type": "markdown",
   "metadata": {},
   "source": [
    "## Ordernando o dataframe df_rank_sellers pela coluna sum_price_orders (Valor total de Vendas), do maior valor para o menor"
   ]
  },
  {
   "cell_type": "code",
   "execution_count": 4,
   "metadata": {},
   "outputs": [],
   "source": [
    "df_rank_sellers.sort_values(by=['sum_price_orders'], ascending=False, inplace=True)\n",
    "df_rank_sellers.reset_index(inplace=True)"
   ]
  },
  {
   "cell_type": "markdown",
   "metadata": {},
   "source": [
    "## Exibindo os primeiros 5 lojistas com maior valor de vendas"
   ]
  },
  {
   "cell_type": "code",
   "execution_count": 5,
   "metadata": {},
   "outputs": [
    {
     "data": {
      "text/html": [
       "<div>\n",
       "<style scoped>\n",
       "    .dataframe tbody tr th:only-of-type {\n",
       "        vertical-align: middle;\n",
       "    }\n",
       "\n",
       "    .dataframe tbody tr th {\n",
       "        vertical-align: top;\n",
       "    }\n",
       "\n",
       "    .dataframe thead th {\n",
       "        text-align: right;\n",
       "    }\n",
       "</style>\n",
       "<table border=\"1\" class=\"dataframe\">\n",
       "  <thead>\n",
       "    <tr style=\"text-align: right;\">\n",
       "      <th></th>\n",
       "      <th>index</th>\n",
       "      <th>Unnamed: 0</th>\n",
       "      <th>seller_id</th>\n",
       "      <th>count_orders</th>\n",
       "      <th>count_products</th>\n",
       "      <th>sum_price_orders</th>\n",
       "      <th>count_orders_delivered</th>\n",
       "      <th>count_review_score_5</th>\n",
       "      <th>count_review_score_4</th>\n",
       "      <th>count_review_score_3</th>\n",
       "      <th>count_review_score_2</th>\n",
       "      <th>count_review_score_1</th>\n",
       "      <th>count_early_delivery</th>\n",
       "      <th>count_late_delivery</th>\n",
       "    </tr>\n",
       "  </thead>\n",
       "  <tbody>\n",
       "    <tr>\n",
       "      <th>0</th>\n",
       "      <td>2617</td>\n",
       "      <td>4994</td>\n",
       "      <td>4869f7a5dfa277a7dca6462dcf3b52b2</td>\n",
       "      <td>1132</td>\n",
       "      <td>1156</td>\n",
       "      <td>229472.63</td>\n",
       "      <td>1124</td>\n",
       "      <td>672</td>\n",
       "      <td>205</td>\n",
       "      <td>100</td>\n",
       "      <td>32</td>\n",
       "      <td>123</td>\n",
       "      <td>981</td>\n",
       "      <td>151</td>\n",
       "    </tr>\n",
       "    <tr>\n",
       "      <th>1</th>\n",
       "      <td>901</td>\n",
       "      <td>901</td>\n",
       "      <td>53243585a1d6dc2643021fd1853d8905</td>\n",
       "      <td>358</td>\n",
       "      <td>410</td>\n",
       "      <td>222776.05</td>\n",
       "      <td>348</td>\n",
       "      <td>200</td>\n",
       "      <td>81</td>\n",
       "      <td>33</td>\n",
       "      <td>9</td>\n",
       "      <td>35</td>\n",
       "      <td>330</td>\n",
       "      <td>28</td>\n",
       "    </tr>\n",
       "    <tr>\n",
       "      <th>2</th>\n",
       "      <td>2463</td>\n",
       "      <td>4840</td>\n",
       "      <td>4a3ca9315b744ce9f8e9374361493884</td>\n",
       "      <td>1806</td>\n",
       "      <td>1987</td>\n",
       "      <td>200472.92</td>\n",
       "      <td>1772</td>\n",
       "      <td>869</td>\n",
       "      <td>357</td>\n",
       "      <td>236</td>\n",
       "      <td>91</td>\n",
       "      <td>269</td>\n",
       "      <td>1560</td>\n",
       "      <td>246</td>\n",
       "    </tr>\n",
       "    <tr>\n",
       "      <th>3</th>\n",
       "      <td>557</td>\n",
       "      <td>557</td>\n",
       "      <td>fa1c13f2614d7b5c4749cbc52fecda94</td>\n",
       "      <td>585</td>\n",
       "      <td>586</td>\n",
       "      <td>194042.03</td>\n",
       "      <td>578</td>\n",
       "      <td>394</td>\n",
       "      <td>103</td>\n",
       "      <td>25</td>\n",
       "      <td>11</td>\n",
       "      <td>52</td>\n",
       "      <td>514</td>\n",
       "      <td>71</td>\n",
       "    </tr>\n",
       "    <tr>\n",
       "      <th>4</th>\n",
       "      <td>1182</td>\n",
       "      <td>1182</td>\n",
       "      <td>7c67e1448b00f6e969d365cea6b010ab</td>\n",
       "      <td>982</td>\n",
       "      <td>1364</td>\n",
       "      <td>187923.89</td>\n",
       "      <td>973</td>\n",
       "      <td>346</td>\n",
       "      <td>240</td>\n",
       "      <td>147</td>\n",
       "      <td>57</td>\n",
       "      <td>198</td>\n",
       "      <td>861</td>\n",
       "      <td>121</td>\n",
       "    </tr>\n",
       "  </tbody>\n",
       "</table>\n",
       "</div>"
      ],
      "text/plain": [
       "   index  Unnamed: 0                         seller_id  count_orders  \\\n",
       "0   2617        4994  4869f7a5dfa277a7dca6462dcf3b52b2          1132   \n",
       "1    901         901  53243585a1d6dc2643021fd1853d8905           358   \n",
       "2   2463        4840  4a3ca9315b744ce9f8e9374361493884          1806   \n",
       "3    557         557  fa1c13f2614d7b5c4749cbc52fecda94           585   \n",
       "4   1182        1182  7c67e1448b00f6e969d365cea6b010ab           982   \n",
       "\n",
       "   count_products  sum_price_orders  count_orders_delivered  \\\n",
       "0            1156         229472.63                    1124   \n",
       "1             410         222776.05                     348   \n",
       "2            1987         200472.92                    1772   \n",
       "3             586         194042.03                     578   \n",
       "4            1364         187923.89                     973   \n",
       "\n",
       "   count_review_score_5  count_review_score_4  count_review_score_3  \\\n",
       "0                   672                   205                   100   \n",
       "1                   200                    81                    33   \n",
       "2                   869                   357                   236   \n",
       "3                   394                   103                    25   \n",
       "4                   346                   240                   147   \n",
       "\n",
       "   count_review_score_2  count_review_score_1  count_early_delivery  \\\n",
       "0                    32                   123                   981   \n",
       "1                     9                    35                   330   \n",
       "2                    91                   269                  1560   \n",
       "3                    11                    52                   514   \n",
       "4                    57                   198                   861   \n",
       "\n",
       "   count_late_delivery  \n",
       "0                  151  \n",
       "1                   28  \n",
       "2                  246  \n",
       "3                   71  \n",
       "4                  121  "
      ]
     },
     "execution_count": 5,
     "metadata": {},
     "output_type": "execute_result"
    }
   ],
   "source": [
    "df_rank_sellers.head()"
   ]
  },
  {
   "cell_type": "markdown",
   "metadata": {},
   "source": [
    "## Plotando o top 10 de lojistas com maior valor de vendas"
   ]
  },
  {
   "cell_type": "code",
   "execution_count": 6,
   "metadata": {},
   "outputs": [
    {
     "data": {
      "application/vnd.plotly.v1+json": {
       "config": {
        "linkText": "Export to plot.ly",
        "plotlyServerURL": "https://plot.ly",
        "showLink": false
       },
       "data": [
        {
         "marker": {
          "color": [
           "#035ee8",
           "#00fa9a",
           "#f4bd0c",
           "#6c2111",
           "#711c91",
           "#115d61",
           "#36a738",
           "#f2a343",
           "#79af92",
           "#c39797"
          ]
         },
         "type": "bar",
         "uid": "051bda4a-6a81-4630-b358-3f98de3f92f2",
         "x": [
          "4869f7a5dfa277a7dca6462dcf3b52b2",
          "53243585a1d6dc2643021fd1853d8905",
          "4a3ca9315b744ce9f8e9374361493884",
          "fa1c13f2614d7b5c4749cbc52fecda94",
          "7c67e1448b00f6e969d365cea6b010ab",
          "7e93a43ef30c4f03f38b393420bc753a",
          "da8622b14eb17ae2831f4ac5b9dab84a",
          "7a67c85e85bb2ce8582c35f2203ad736",
          "1025f0e2d44d7041d6cf58b6550e0bfa",
          "955fee9216a65b617aa5c0531780ce60"
         ],
         "y": [
          229472.63,
          222776.05,
          200472.92,
          194042.03,
          187923.89,
          176431.87,
          160236.57,
          141745.53,
          138968.55,
          135171.7
         ]
        }
       ],
       "layout": {
        "autosize": true,
        "title": {
         "text": "Top 10 - Valor total de Vendas"
        },
        "xaxis": {
         "autorange": true,
         "range": [
          -0.5,
          9.5
         ],
         "type": "category"
        },
        "yaxis": {
         "autorange": true,
         "range": [
          0,
          241550.13684210528
         ],
         "type": "linear"
        }
       }
      },
      "image/png": "[encoded data removed]"
     },
     "metadata": {},
     "output_type": "display_data"
    }
   ],
   "source": [
    "perc = [go.Bar(x = df_rank_sellers['seller_id'].head(10), y=df_rank_sellers['sum_price_orders'].head(10), \n",
    "               marker=dict(color=['#035ee8', '#00fa9a', '#f4bd0c', '#6c2111', '#711c91',\n",
    "                                 '#115d61', '#36a738', '#f2a343', '#79af92', '#c39797']))]\n",
    "\n",
    "layout = go.Layout( title='Top 10 - Valor total de Vendas')\n",
    "\n",
    "fig = go.Figure(data=perc, layout=layout)\n",
    "\n",
    "py.iplot(fig, filename='color-bar')\n"
   ]
  },
  {
   "cell_type": "markdown",
   "metadata": {},
   "source": [
    "## Plotando o top 10 de lojistas com a maior quantidade de avaliações com score 5"
   ]
  },
  {
   "cell_type": "code",
   "execution_count": 7,
   "metadata": {},
   "outputs": [
    {
     "data": {
      "application/vnd.plotly.v1+json": {
       "config": {
        "linkText": "Export to plot.ly",
        "plotlyServerURL": "https://plot.ly",
        "showLink": false
       },
       "data": [
        {
         "marker": {
          "color": [
           "#035ee8",
           "#00fa9a",
           "#f4bd0c",
           "#6c2111",
           "#711c91",
           "#115d61",
           "#36a738",
           "#f2a343",
           "#79af92",
           "#c39797"
          ]
         },
         "type": "bar",
         "uid": "2288c257-2162-4b23-89c7-4bc73a68422a",
         "x": [
          "cc419e0650a3c5ba77189a1882b7556a",
          "6560211a19b47992c3666cc44a7e94c0",
          "4a3ca9315b744ce9f8e9374361493884",
          "1f50f920176fa81dab994f9023523100",
          "da8622b14eb17ae2831f4ac5b9dab84a",
          "955fee9216a65b617aa5c0531780ce60",
          "7a67c85e85bb2ce8582c35f2203ad736",
          "4869f7a5dfa277a7dca6462dcf3b52b2",
          "3d871de0142ce09b7081e2b9d1733cb1",
          "ea8482cd71df3c1969d7b9473ff13abc"
         ],
         "y": [
          1017,
          949,
          869,
          843,
          784,
          722,
          714,
          672,
          606,
          602
         ]
        }
       ],
       "layout": {
        "autosize": true,
        "title": {
         "text": "Top 10 - Quantidade de Avaliações com Score 5"
        },
        "xaxis": {
         "autorange": true,
         "range": [
          -0.5,
          9.5
         ],
         "type": "category"
        },
        "yaxis": {
         "autorange": true,
         "range": [
          0,
          1070.5263157894738
         ],
         "type": "linear"
        }
       }
      },
      "image/png": "[encoded data removed]"
     },
     "metadata": {},
     "output_type": "display_data"
    }
   ],
   "source": [
    "perc = [go.Bar(x = df_rank_sellers.sort_values(by=['count_review_score_5'], ascending=False)['seller_id'].head(10), \n",
    "               y=df_rank_sellers.sort_values(by=['count_review_score_5'], ascending=False)['count_review_score_5'].head(10), \n",
    "               marker=dict(color=['#035ee8', '#00fa9a', '#f4bd0c', '#6c2111', '#711c91',\n",
    "                                 '#115d61', '#36a738', '#f2a343', '#79af92', '#c39797']))]\n",
    "\n",
    "layout = go.Layout( title='Top 10 - Quantidade de Avaliações com Score 5')\n",
    "\n",
    "fig = go.Figure(data=perc, layout=layout)\n",
    "\n",
    "py.iplot(fig, filename='color-bar')"
   ]
  },
  {
   "cell_type": "markdown",
   "metadata": {},
   "source": [
    "## Plotando o top 10 de lojistas com maior quantidade de entregas realizadas antes do prazo estimado"
   ]
  },
  {
   "cell_type": "code",
   "execution_count": 8,
   "metadata": {},
   "outputs": [
    {
     "data": {
      "application/vnd.plotly.v1+json": {
       "config": {
        "linkText": "Export to plot.ly",
        "plotlyServerURL": "https://plot.ly",
        "showLink": false
       },
       "data": [
        {
         "marker": {
          "color": [
           "#035ee8",
           "#00fa9a",
           "#f4bd0c",
           "#6c2111",
           "#711c91",
           "#115d61",
           "#36a738",
           "#f2a343",
           "#79af92",
           "#c39797"
          ]
         },
         "type": "bar",
         "uid": "96e4353f-71a6-4f63-8018-636dfc4450df",
         "x": [
          "6560211a19b47992c3666cc44a7e94c0",
          "4a3ca9315b744ce9f8e9374361493884",
          "cc419e0650a3c5ba77189a1882b7556a",
          "1f50f920176fa81dab994f9023523100",
          "da8622b14eb17ae2831f4ac5b9dab84a",
          "955fee9216a65b617aa5c0531780ce60",
          "7a67c85e85bb2ce8582c35f2203ad736",
          "ea8482cd71df3c1969d7b9473ff13abc",
          "3d871de0142ce09b7081e2b9d1733cb1",
          "4869f7a5dfa277a7dca6462dcf3b52b2"
         ],
         "y": [
          1676,
          1560,
          1540,
          1236,
          1198,
          1142,
          1065,
          1004,
          991,
          981
         ]
        }
       ],
       "layout": {
        "autosize": true,
        "title": {
         "text": "Top 10 - Quantidade de entregas antes do prazo estimado"
        },
        "xaxis": {
         "autorange": true,
         "range": [
          -0.5,
          9.5
         ],
         "type": "category"
        },
        "yaxis": {
         "autorange": true,
         "range": [
          0,
          1764.2105263157896
         ],
         "type": "linear"
        }
       }
      },
      "image/png": "[encoded data removed]"
     },
     "metadata": {},
     "output_type": "display_data"
    }
   ],
   "source": [
    "perc = [go.Bar(x = df_rank_sellers.sort_values(by=['count_early_delivery'], ascending=False)['seller_id'].head(10), \n",
    "               y=df_rank_sellers.sort_values(by=['count_early_delivery'], ascending=False)['count_early_delivery'].head(10), \n",
    "               marker=dict(color=['#035ee8', '#00fa9a', '#f4bd0c', '#6c2111', '#711c91',\n",
    "                                 '#115d61', '#36a738', '#f2a343', '#79af92', '#c39797']))]\n",
    "\n",
    "layout = go.Layout( title='Top 10 - Quantidade de entregas antes do prazo estimado')\n",
    "\n",
    "fig = go.Figure(data=perc, layout=layout)\n",
    "\n",
    "py.iplot(fig, filename='color-bar')"
   ]
  },
  {
   "cell_type": "markdown",
   "metadata": {},
   "source": [
    "## Para aprofundarmos um pouco mais na análise, vamos verificar o percentual de avaliações recebidas pelos lojistas do top 10 de maior valor em vendas, usando como base o total de avaliações que cada lojista recebeu.\n",
    "\n",
    "* Para realizar esta análise vamos definir um **dataframe** que terá as seguintes colunas:\n",
    "    * **seller_id** : ID do Lojista\n",
    "    * **percent_score_5**: Percentual de Avaliações com Score 5\n",
    "    * **percent_score_4**: Percentual de Avaliações com Score 4\n",
    "    * **percent_score_3**: Percentual de Avaliações com Score 3\n",
    "    * **percent_score_2**: Percentual de Avaliações com Score 2\n",
    "    * **percent_score_1**: Percentual de Avaliações com Score 1"
   ]
  },
  {
   "cell_type": "code",
   "execution_count": 9,
   "metadata": {},
   "outputs": [],
   "source": [
    "df_rank_sellers_score = pd.DataFrame(columns=['seller_id', 'percent_score_5', 'percent_score_4', \n",
    "                                              'percent_score_3', 'percent_score_2', 'percent_score_1'])"
   ]
  },
  {
   "cell_type": "markdown",
   "metadata": {},
   "source": [
    "## Preenchendo o dataset df_rank_sellers_score"
   ]
  },
  {
   "cell_type": "code",
   "execution_count": 10,
   "metadata": {},
   "outputs": [],
   "source": [
    "for seller in df_rank_sellers['seller_id'].head(10):\n",
    "    total_review_score = int(df_rank_sellers[df_rank_sellers['seller_id'] == seller]['count_review_score_5']) + \\\n",
    "                         int(df_rank_sellers[df_rank_sellers['seller_id'] == seller]['count_review_score_4']) + \\\n",
    "                         int(df_rank_sellers[df_rank_sellers['seller_id'] == seller]['count_review_score_3']) + \\\n",
    "                         int(df_rank_sellers[df_rank_sellers['seller_id'] == seller]['count_review_score_2']) + \\\n",
    "                         int(df_rank_sellers[df_rank_sellers['seller_id'] == seller]['count_review_score_1'])\n",
    "    \n",
    "    percent_score_5 = int(df_rank_sellers[df_rank_sellers['seller_id'] == seller]['count_review_score_5']) / total_review_score * 100\n",
    "    percent_score_4 = int(df_rank_sellers[df_rank_sellers['seller_id'] == seller]['count_review_score_4'])/ total_review_score * 100\n",
    "    percent_score_3 = int(df_rank_sellers[df_rank_sellers['seller_id'] == seller]['count_review_score_3']) / total_review_score * 100\n",
    "    percent_score_2 = int(df_rank_sellers[df_rank_sellers['seller_id'] == seller]['count_review_score_2']) / total_review_score * 100\n",
    "    percent_score_1 = int(df_rank_sellers[df_rank_sellers['seller_id'] == seller]['count_review_score_1']) / total_review_score * 100\n",
    "    \n",
    "    df_rank_sellers_score = df_rank_sellers_score.append({'seller_id':seller,\n",
    "                                 'percent_score_5':percent_score_5,\n",
    "                                 'percent_score_4':percent_score_4,\n",
    "                                 'percent_score_3':percent_score_3,\n",
    "                                 'percent_score_2':percent_score_2,\n",
    "                                 'percent_score_1':percent_score_1},ignore_index=True)\n",
    "    \n",
    "df_rank_sellers_score = round(df_rank_sellers_score,2)"
   ]
  },
  {
   "cell_type": "markdown",
   "metadata": {},
   "source": [
    "## Ordernando o dataframe df_rank_sellers_socre pela coluna percent_score_5 (Percentual de Avaliações com Score 5), do maior valor para o menor"
   ]
  },
  {
   "cell_type": "code",
   "execution_count": 11,
   "metadata": {},
   "outputs": [],
   "source": [
    "df_rank_sellers_score.sort_values(by='percent_score_5', ascending=False, inplace=True)\n",
    "df_rank_sellers_score.reset_index(inplace=True)"
   ]
  },
  {
   "cell_type": "markdown",
   "metadata": {},
   "source": [
    "## Exibindo o dataframe com os percentuais de cada score para cada lojista do top 10 de maior valor de vendas"
   ]
  },
  {
   "cell_type": "code",
   "execution_count": 12,
   "metadata": {},
   "outputs": [
    {
     "data": {
      "text/html": [
       "<div>\n",
       "<style scoped>\n",
       "    .dataframe tbody tr th:only-of-type {\n",
       "        vertical-align: middle;\n",
       "    }\n",
       "\n",
       "    .dataframe tbody tr th {\n",
       "        vertical-align: top;\n",
       "    }\n",
       "\n",
       "    .dataframe thead th {\n",
       "        text-align: right;\n",
       "    }\n",
       "</style>\n",
       "<table border=\"1\" class=\"dataframe\">\n",
       "  <thead>\n",
       "    <tr style=\"text-align: right;\">\n",
       "      <th></th>\n",
       "      <th>index</th>\n",
       "      <th>seller_id</th>\n",
       "      <th>percent_score_5</th>\n",
       "      <th>percent_score_4</th>\n",
       "      <th>percent_score_3</th>\n",
       "      <th>percent_score_2</th>\n",
       "      <th>percent_score_1</th>\n",
       "    </tr>\n",
       "  </thead>\n",
       "  <tbody>\n",
       "    <tr>\n",
       "      <th>0</th>\n",
       "      <td>3</td>\n",
       "      <td>fa1c13f2614d7b5c4749cbc52fecda94</td>\n",
       "      <td>67.35</td>\n",
       "      <td>17.61</td>\n",
       "      <td>4.27</td>\n",
       "      <td>1.88</td>\n",
       "      <td>8.89</td>\n",
       "    </tr>\n",
       "    <tr>\n",
       "      <th>1</th>\n",
       "      <td>5</td>\n",
       "      <td>7e93a43ef30c4f03f38b393420bc753a</td>\n",
       "      <td>62.80</td>\n",
       "      <td>17.56</td>\n",
       "      <td>7.44</td>\n",
       "      <td>1.79</td>\n",
       "      <td>10.42</td>\n",
       "    </tr>\n",
       "    <tr>\n",
       "      <th>2</th>\n",
       "      <td>7</td>\n",
       "      <td>7a67c85e85bb2ce8582c35f2203ad736</td>\n",
       "      <td>61.34</td>\n",
       "      <td>18.90</td>\n",
       "      <td>8.59</td>\n",
       "      <td>3.35</td>\n",
       "      <td>7.82</td>\n",
       "    </tr>\n",
       "    <tr>\n",
       "      <th>3</th>\n",
       "      <td>0</td>\n",
       "      <td>4869f7a5dfa277a7dca6462dcf3b52b2</td>\n",
       "      <td>59.36</td>\n",
       "      <td>18.11</td>\n",
       "      <td>8.83</td>\n",
       "      <td>2.83</td>\n",
       "      <td>10.87</td>\n",
       "    </tr>\n",
       "    <tr>\n",
       "      <th>4</th>\n",
       "      <td>6</td>\n",
       "      <td>da8622b14eb17ae2831f4ac5b9dab84a</td>\n",
       "      <td>58.90</td>\n",
       "      <td>20.21</td>\n",
       "      <td>8.87</td>\n",
       "      <td>3.31</td>\n",
       "      <td>8.72</td>\n",
       "    </tr>\n",
       "    <tr>\n",
       "      <th>5</th>\n",
       "      <td>9</td>\n",
       "      <td>955fee9216a65b617aa5c0531780ce60</td>\n",
       "      <td>56.01</td>\n",
       "      <td>22.89</td>\n",
       "      <td>9.31</td>\n",
       "      <td>3.10</td>\n",
       "      <td>8.69</td>\n",
       "    </tr>\n",
       "    <tr>\n",
       "      <th>6</th>\n",
       "      <td>1</td>\n",
       "      <td>53243585a1d6dc2643021fd1853d8905</td>\n",
       "      <td>55.87</td>\n",
       "      <td>22.63</td>\n",
       "      <td>9.22</td>\n",
       "      <td>2.51</td>\n",
       "      <td>9.78</td>\n",
       "    </tr>\n",
       "    <tr>\n",
       "      <th>7</th>\n",
       "      <td>8</td>\n",
       "      <td>1025f0e2d44d7041d6cf58b6550e0bfa</td>\n",
       "      <td>54.88</td>\n",
       "      <td>19.41</td>\n",
       "      <td>7.70</td>\n",
       "      <td>4.12</td>\n",
       "      <td>13.88</td>\n",
       "    </tr>\n",
       "    <tr>\n",
       "      <th>8</th>\n",
       "      <td>2</td>\n",
       "      <td>4a3ca9315b744ce9f8e9374361493884</td>\n",
       "      <td>47.69</td>\n",
       "      <td>19.59</td>\n",
       "      <td>12.95</td>\n",
       "      <td>4.99</td>\n",
       "      <td>14.76</td>\n",
       "    </tr>\n",
       "    <tr>\n",
       "      <th>9</th>\n",
       "      <td>4</td>\n",
       "      <td>7c67e1448b00f6e969d365cea6b010ab</td>\n",
       "      <td>35.02</td>\n",
       "      <td>24.29</td>\n",
       "      <td>14.88</td>\n",
       "      <td>5.77</td>\n",
       "      <td>20.04</td>\n",
       "    </tr>\n",
       "  </tbody>\n",
       "</table>\n",
       "</div>"
      ],
      "text/plain": [
       "   index                         seller_id  percent_score_5  percent_score_4  \\\n",
       "0      3  fa1c13f2614d7b5c4749cbc52fecda94            67.35            17.61   \n",
       "1      5  7e93a43ef30c4f03f38b393420bc753a            62.80            17.56   \n",
       "2      7  7a67c85e85bb2ce8582c35f2203ad736            61.34            18.90   \n",
       "3      0  4869f7a5dfa277a7dca6462dcf3b52b2            59.36            18.11   \n",
       "4      6  da8622b14eb17ae2831f4ac5b9dab84a            58.90            20.21   \n",
       "5      9  955fee9216a65b617aa5c0531780ce60            56.01            22.89   \n",
       "6      1  53243585a1d6dc2643021fd1853d8905            55.87            22.63   \n",
       "7      8  1025f0e2d44d7041d6cf58b6550e0bfa            54.88            19.41   \n",
       "8      2  4a3ca9315b744ce9f8e9374361493884            47.69            19.59   \n",
       "9      4  7c67e1448b00f6e969d365cea6b010ab            35.02            24.29   \n",
       "\n",
       "   percent_score_3  percent_score_2  percent_score_1  \n",
       "0             4.27             1.88             8.89  \n",
       "1             7.44             1.79            10.42  \n",
       "2             8.59             3.35             7.82  \n",
       "3             8.83             2.83            10.87  \n",
       "4             8.87             3.31             8.72  \n",
       "5             9.31             3.10             8.69  \n",
       "6             9.22             2.51             9.78  \n",
       "7             7.70             4.12            13.88  \n",
       "8            12.95             4.99            14.76  \n",
       "9            14.88             5.77            20.04  "
      ]
     },
     "execution_count": 12,
     "metadata": {},
     "output_type": "execute_result"
    }
   ],
   "source": [
    "df_rank_sellers_score"
   ]
  },
  {
   "cell_type": "markdown",
   "metadata": {},
   "source": [
    "## Plotando o percentual de cada score de cada lojista do top 10 de maior valor de vendas"
   ]
  },
  {
   "cell_type": "code",
   "execution_count": 13,
   "metadata": {},
   "outputs": [
    {
     "data": {
      "application/vnd.plotly.v1+json": {
       "config": {
        "linkText": "Export to plot.ly",
        "plotlyServerURL": "https://plot.ly",
        "showLink": false
       },
       "data": [
        {
         "name": "Score 1",
         "type": "bar",
         "uid": "ef510a3f-25c0-48fd-9635-c174f0ea1812",
         "x": [
          "fa1c13f2614d7b5c4749cbc52fecda94",
          "7e93a43ef30c4f03f38b393420bc753a",
          "7a67c85e85bb2ce8582c35f2203ad736",
          "4869f7a5dfa277a7dca6462dcf3b52b2",
          "da8622b14eb17ae2831f4ac5b9dab84a",
          "955fee9216a65b617aa5c0531780ce60",
          "53243585a1d6dc2643021fd1853d8905",
          "1025f0e2d44d7041d6cf58b6550e0bfa",
          "4a3ca9315b744ce9f8e9374361493884",
          "7c67e1448b00f6e969d365cea6b010ab"
         ],
         "y": [
          8.89,
          10.42,
          7.82,
          10.87,
          8.72,
          8.69,
          9.78,
          13.88,
          14.76,
          20.04
         ]
        },
        {
         "name": "Score 2",
         "type": "bar",
         "uid": "5709e636-149c-4b79-ac27-d92376690b32",
         "x": [
          "fa1c13f2614d7b5c4749cbc52fecda94",
          "7e93a43ef30c4f03f38b393420bc753a",
          "7a67c85e85bb2ce8582c35f2203ad736",
          "4869f7a5dfa277a7dca6462dcf3b52b2",
          "da8622b14eb17ae2831f4ac5b9dab84a",
          "955fee9216a65b617aa5c0531780ce60",
          "53243585a1d6dc2643021fd1853d8905",
          "1025f0e2d44d7041d6cf58b6550e0bfa",
          "4a3ca9315b744ce9f8e9374361493884",
          "7c67e1448b00f6e969d365cea6b010ab"
         ],
         "y": [
          1.88,
          1.79,
          3.35,
          2.83,
          3.31,
          3.1,
          2.51,
          4.12,
          4.99,
          5.77
         ]
        },
        {
         "name": "Score 3",
         "type": "bar",
         "uid": "3eb65bd8-d6eb-469a-aaf3-ff17f31520fd",
         "x": [
          "fa1c13f2614d7b5c4749cbc52fecda94",
          "7e93a43ef30c4f03f38b393420bc753a",
          "7a67c85e85bb2ce8582c35f2203ad736",
          "4869f7a5dfa277a7dca6462dcf3b52b2",
          "da8622b14eb17ae2831f4ac5b9dab84a",
          "955fee9216a65b617aa5c0531780ce60",
          "53243585a1d6dc2643021fd1853d8905",
          "1025f0e2d44d7041d6cf58b6550e0bfa",
          "4a3ca9315b744ce9f8e9374361493884",
          "7c67e1448b00f6e969d365cea6b010ab"
         ],
         "y": [
          4.27,
          7.44,
          8.59,
          8.83,
          8.87,
          9.31,
          9.22,
          7.7,
          12.95,
          14.88
         ]
        },
        {
         "name": "Score 4",
         "type": "bar",
         "uid": "4cf4da07-53cc-4b3c-9f4b-7c96ab7deb3c",
         "x": [
          "fa1c13f2614d7b5c4749cbc52fecda94",
          "7e93a43ef30c4f03f38b393420bc753a",
          "7a67c85e85bb2ce8582c35f2203ad736",
          "4869f7a5dfa277a7dca6462dcf3b52b2",
          "da8622b14eb17ae2831f4ac5b9dab84a",
          "955fee9216a65b617aa5c0531780ce60",
          "53243585a1d6dc2643021fd1853d8905",
          "1025f0e2d44d7041d6cf58b6550e0bfa",
          "4a3ca9315b744ce9f8e9374361493884",
          "7c67e1448b00f6e969d365cea6b010ab"
         ],
         "y": [
          17.61,
          17.56,
          18.9,
          18.11,
          20.21,
          22.89,
          22.63,
          19.41,
          19.59,
          24.29
         ]
        },
        {
         "name": "Score 5",
         "type": "bar",
         "uid": "56d6d67f-97e1-4d25-ae43-d02c8bae1e7e",
         "x": [
          "fa1c13f2614d7b5c4749cbc52fecda94",
          "7e93a43ef30c4f03f38b393420bc753a",
          "7a67c85e85bb2ce8582c35f2203ad736",
          "4869f7a5dfa277a7dca6462dcf3b52b2",
          "da8622b14eb17ae2831f4ac5b9dab84a",
          "955fee9216a65b617aa5c0531780ce60",
          "53243585a1d6dc2643021fd1853d8905",
          "1025f0e2d44d7041d6cf58b6550e0bfa",
          "4a3ca9315b744ce9f8e9374361493884",
          "7c67e1448b00f6e969d365cea6b010ab"
         ],
         "y": [
          67.35,
          62.8,
          61.34,
          59.36,
          58.9,
          56.01,
          55.87,
          54.88,
          47.69,
          35.02
         ]
        }
       ],
       "layout": {
        "autosize": true,
        "dragmode": "zoom",
        "title": {
         "text": "Percentual de cada score para cada lojista do Top 10 de Valor de Vendas"
        },
        "xaxis": {
         "autorange": false,
         "range": [
          -0.5,
          9.5
         ],
         "type": "category"
        },
        "yaxis": {
         "autorange": false,
         "range": [
          0,
          70.89473684210526
         ],
         "type": "linear"
        }
       }
      },
      "image/png": "[encoded data removed]"
     },
     "metadata": {},
     "output_type": "display_data"
    }
   ],
   "source": [
    "score_5 = go.Bar(x=df_rank_sellers_score['seller_id'], y=df_rank_sellers_score['percent_score_5'], name='Score 5')\n",
    "score_4 = go.Bar(x=df_rank_sellers_score['seller_id'], y=df_rank_sellers_score['percent_score_4'], name='Score 4')\n",
    "score_3 = go.Bar(x=df_rank_sellers_score['seller_id'], y=df_rank_sellers_score['percent_score_3'], name='Score 3')\n",
    "score_2 = go.Bar(x=df_rank_sellers_score['seller_id'], y=df_rank_sellers_score['percent_score_2'], name='Score 2')\n",
    "score_1 = go.Bar(x=df_rank_sellers_score['seller_id'], y=df_rank_sellers_score['percent_score_1'], name='Score 1')\n",
    "\n",
    "scores = [score_1, score_2, score_3, score_4, score_5]\n",
    "\n",
    "layout = go.Layout(title='Percentual de cada score para cada lojista do Top 10 de Valor de Vendas')\n",
    "\n",
    "fig = go.Figure(data=scores, layout=layout)\n",
    "\n",
    "py.iplot(fig)"
   ]
  }
 ],
 "metadata": {
  "kernelspec": {
   "display_name": "Python 3",
   "language": "python",
   "name": "python3"
  },
  "language_info": {
   "codemirror_mode": {
    "name": "ipython",
    "version": 3
   },
   "file_extension": ".py",
   "mimetype": "text/x-python",
   "name": "python",
   "nbconvert_exporter": "python",
   "pygments_lexer": "ipython3",
   "version": "3.7.3"
  }
 },
 "nbformat": 4,
 "nbformat_minor": 2
}
