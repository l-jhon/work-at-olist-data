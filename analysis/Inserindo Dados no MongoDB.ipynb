{
 "cells": [
  {
   "cell_type": "markdown",
   "metadata": {},
   "source": [
    "# Inserindo os dados no MongoDB"
   ]
  },
  {
   "cell_type": "code",
   "execution_count": 5,
   "metadata": {},
   "outputs": [],
   "source": [
    "import pandas as pd\n",
    "from pymongo import MongoClient"
   ]
  },
  {
   "cell_type": "code",
   "execution_count": 2,
   "metadata": {},
   "outputs": [],
   "source": [
    "client = MongoClient('localhost', 27017)"
   ]
  },
  {
   "cell_type": "code",
   "execution_count": 3,
   "metadata": {},
   "outputs": [],
   "source": [
    "db = client.olist_db"
   ]
  },
  {
   "cell_type": "code",
   "execution_count": 14,
   "metadata": {},
   "outputs": [],
   "source": [
    "olist_customers = db.olist_customers\n",
    "olist_geolocation = db.olist_geolocation\n",
    "olist_order_items = db.olist_order_items\n",
    "olist_order_payments = db.olist_order_payments\n",
    "olist_order_reviews = db.olist_order_reviews\n",
    "olist_orders = db.olist_orders\n",
    "olist_products = db.olist_products\n",
    "olist_sellers = db.olist_sellers"
   ]
  },
  {
   "cell_type": "code",
   "execution_count": 15,
   "metadata": {},
   "outputs": [],
   "source": [
    "df_customers = pd.read_csv('../datasets/olist_customers_dataset.csv', encoding='ISO-8859-1')\n",
    "df_geolocation = pd.read_csv('../datasets/olist_geolocation_dataset.csv', encoding='ISO-8859-1')\n",
    "df_order_items = pd.read_csv('../datasets/olist_order_items_dataset.csv', encoding='ISO-8859-1')\n",
    "df_order_payments = pd.read_csv('../datasets/olist_order_payments_dataset.csv', encoding='ISO-8859-1')\n",
    "df_order_reviews = pd.read_csv('../datasets/olist_order_reviews_dataset.csv', encoding='ISO-8859-1')\n",
    "df_orders = pd.read_csv('../datasets/olist_orders_dataset.csv', encoding='ISO-8859-1')\n",
    "df_products = pd.read_csv('../datasets/olist_products_dataset.csv', encoding='ISO-8859-1')\n",
    "df_sellers = pd.read_csv('../datasets/olist_sellers_dataset.csv', encoding='ISO-8859-1')"
   ]
  },
  {
   "cell_type": "code",
   "execution_count": 16,
   "metadata": {},
   "outputs": [],
   "source": [
    "records_olist_customers = df_customers.to_dict(orient='record')\n",
    "records_olist_geolocation = df_geolocation.to_dict(orient='record')\n",
    "records_olist_order_items = df_order_items.to_dict(orient='record')\n",
    "records_olist_order_payments = df_order_payments.to_dict(orient='record')\n",
    "records_olist_order_reviews = df_order_reviews.to_dict(orient='record')\n",
    "records_olist_orders = df_orders.to_dict(orient='record')\n",
    "records_olist_products = df_products.to_dict(orient='record')\n",
    "records_olist_sellers = df_sellers.to_dict(orient='record')"
   ]
  },
  {
   "cell_type": "code",
   "execution_count": 17,
   "metadata": {},
   "outputs": [],
   "source": [
    "result_olist_customers = db.olist_customers.insert_many(records_olist_customers)\n",
    "result_olist_geolocation = db.olist_geolocation.insert_many(records_olist_geolocation)\n",
    "result_olist_order_items = db.olist_order_items.insert_many(records_olist_order_items)\n",
    "result_olist_order_payments = db.olist_order_payments.insert_many(records_olist_order_payments)\n",
    "result_olist_order_reviews = db.olist_order_reviews.insert_many(records_olist_order_reviews)\n",
    "result_olist_orders = db.olist_orders.insert_many(records_olist_orders)\n",
    "result_olist_products = db.olist_products.insert_many(records_olist_products)\n",
    "result_olist_sellers = db.olist_sellers.insert_many(records_olist_sellers)"
   ]
  },
  {
   "cell_type": "markdown",
   "metadata": {},
   "source": [
    "## Realizando algumas consultas"
   ]
  },
  {
   "cell_type": "code",
   "execution_count": 18,
   "metadata": {},
   "outputs": [
    {
     "data": {
      "text/plain": [
       "{'_id': ObjectId('5d3e6665f633b372f5b17839'),\n",
       " 'customer_id': '06b8999e2fba1a1fbc88172c00ba8bc7',\n",
       " 'customer_unique_id': '861eff4711a542e4b93843c6dd7febb0',\n",
       " 'customer_zip_code_prefix': 14409,\n",
       " 'customer_city': 'franca',\n",
       " 'customer_state': 'SP'}"
      ]
     },
     "execution_count": 18,
     "metadata": {},
     "output_type": "execute_result"
    }
   ],
   "source": [
    "olist_customers.find_one({'customer_id':'06b8999e2fba1a1fbc88172c00ba8bc7'})"
   ]
  },
  {
   "cell_type": "code",
   "execution_count": 19,
   "metadata": {},
   "outputs": [
    {
     "data": {
      "text/plain": [
       "{'_id': ObjectId('5d3e6b6af633b372f5c9f222'),\n",
       " 'order_id': '00e7ee1b050b8499577073aeb2a297a1',\n",
       " 'customer_id': '06b8999e2fba1a1fbc88172c00ba8bc7',\n",
       " 'order_status': 'delivered',\n",
       " 'order_purchase_timestamp': '2017-05-16 15:05:35',\n",
       " 'order_approved_at': '2017-05-16 15:22:12',\n",
       " 'order_delivered_carrier_date': '2017-05-23 10:47:57',\n",
       " 'order_delivered_customer_date': '2017-05-25 10:35:35',\n",
       " 'order_estimated_delivery_date': '2017-06-05 00:00:00'}"
      ]
     },
     "execution_count": 19,
     "metadata": {},
     "output_type": "execute_result"
    }
   ],
   "source": [
    "olist_orders.find_one({'customer_id':'06b8999e2fba1a1fbc88172c00ba8bc7'})"
   ]
  },
  {
   "cell_type": "code",
   "execution_count": 20,
   "metadata": {},
   "outputs": [
    {
     "data": {
      "text/plain": [
       "{'_id': ObjectId('5d3e6b64f633b372f5c3c573'),\n",
       " 'order_id': '00e7ee1b050b8499577073aeb2a297a1',\n",
       " 'order_item_id': 1,\n",
       " 'product_id': 'a9516a079e37a9c9c36b9b78b10169e8',\n",
       " 'seller_id': '7c67e1448b00f6e969d365cea6b010ab',\n",
       " 'shipping_limit_date': '2017-05-22 15:22:12',\n",
       " 'price': 124.99,\n",
       " 'freight_value': 21.88}"
      ]
     },
     "execution_count": 20,
     "metadata": {},
     "output_type": "execute_result"
    }
   ],
   "source": [
    "olist_order_items.find_one({'order_id':'00e7ee1b050b8499577073aeb2a297a1'})"
   ]
  },
  {
   "cell_type": "code",
   "execution_count": null,
   "metadata": {},
   "outputs": [],
   "source": []
  }
 ],
 "metadata": {
  "kernelspec": {
   "display_name": "Python 3",
   "language": "python",
   "name": "python3"
  },
  "language_info": {
   "codemirror_mode": {
    "name": "ipython",
    "version": 3
   },
   "file_extension": ".py",
   "mimetype": "text/x-python",
   "name": "python",
   "nbconvert_exporter": "python",
   "pygments_lexer": "ipython3",
   "version": "3.7.3"
  }
 },
 "nbformat": 4,
 "nbformat_minor": 2
}
